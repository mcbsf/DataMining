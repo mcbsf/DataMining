{
 "cells": [
  {
   "cell_type": "markdown",
   "metadata": {},
   "source": [
    "## Coleta das URLs"
   ]
  },
  {
   "cell_type": "code",
   "execution_count": 10,
   "metadata": {
    "collapsed": true
   },
   "outputs": [],
   "source": [
    "import urllib.request, json \n",
    "import pandas as pd"
   ]
  },
  {
   "cell_type": "markdown",
   "metadata": {},
   "source": [
    "pega a o json dentro da url e bota todos os tópicos mais populares dentro da variável \"data\""
   ]
  },
  {
   "cell_type": "code",
   "execution_count": 5,
   "metadata": {},
   "outputs": [
    {
     "name": "stdout",
     "output_type": "stream",
     "text": [
      "27\n"
     ]
    }
   ],
   "source": [
    "with urllib.request.urlopen(\"http://reddit.com/r/Bitcoin/.json\") as url:\n",
    "     data = json.loads(url.read())['data']['children']\n",
    "\n",
    "\n",
    "with open('data.txt', 'w') as outfile:  \n",
    "     json.dump(data, outfile)\n",
    "print(len(data))"
   ]
  },
  {
   "cell_type": "markdown",
   "metadata": {},
   "source": [
    "pega a url de acesso aos tópicos"
   ]
  },
  {
   "cell_type": "code",
   "execution_count": 8,
   "metadata": {
    "scrolled": false
   },
   "outputs": [
    {
     "name": "stdout",
     "output_type": "stream",
     "text": [
      "http://reddit.com/r/Bitcoin/comments/84n7dl/announcing_lnd_04beta/\n",
      "84n7dl\n",
      "http://reddit.com/r/Bitcoin/comments/84uapw/daily_discussion_march_16_2018/\n",
      "84uapw\n",
      "http://reddit.com/r/Bitcoin/comments/84uhd0/after_countless_late_nights_lines_of_code_bug/\n",
      "84uhd0\n",
      "http://reddit.com/r/Bitcoin/comments/84uy6e/peter_thiel_bitcoin_is_like_a_hedge_of_sorts/\n",
      "84uy6e\n",
      "http://reddit.com/r/Bitcoin/comments/84wu5q/psa_this_is_the_calm_before_the_storm/\n",
      "84wu5q\n",
      "http://reddit.com/r/Bitcoin/comments/84v05t/paypal_cofounder_peter_thiel_calls_bitcoin/\n",
      "84v05t\n",
      "http://reddit.com/r/Bitcoin/comments/84v2lv/over_50_percent_of_square_merchants_ready_to/\n",
      "84v2lv\n",
      "http://reddit.com/r/Bitcoin/comments/84vujs/warning_fake_emails_to_paypal_users_with_a/\n",
      "84vujs\n",
      "http://reddit.com/r/Bitcoin/comments/84uo3y/lightning_network_mainnet_release_is_announced/\n",
      "84uo3y\n",
      "http://reddit.com/r/Bitcoin/comments/84u3rb/bitcoin_if_you_cant_handle_my_20_drops_you_dont/\n",
      "84u3rb\n",
      "http://reddit.com/r/Bitcoin/comments/84tt0v/psa_xapo_will_freeze_your_bitcoin_and_demand/\n",
      "84tt0v\n",
      "http://reddit.com/r/Bitcoin/comments/84unzu/meet_the_man_who_advocates_bitcoin_for_african/\n",
      "84unzu\n",
      "http://reddit.com/r/Bitcoin/comments/84w8k0/new_webshop_accepting_bitcoin_best_cheese_from/\n",
      "84w8k0\n",
      "http://reddit.com/r/Bitcoin/comments/84u0hl/new_survey_shows_more_than_60_would_accept_btc_in/\n",
      "84u0hl\n",
      "http://reddit.com/r/Bitcoin/comments/84wh02/sierra_leone_just_ran_the_first_bitcoin/\n",
      "84wh02\n",
      "http://reddit.com/r/Bitcoin/comments/84yij0/the_government_seized_nearly_everything_i_owned/\n",
      "84yij0\n",
      "http://reddit.com/r/Bitcoin/comments/84uc18/peter_thiel_is_long_bitcoin_and_neutral_to/\n",
      "84uc18\n",
      "http://reddit.com/r/Bitcoin/comments/84posb/california_rep_sherman_badmouthing/\n",
      "84posb\n",
      "http://reddit.com/r/Bitcoin/comments/84ute3/binance_announces_1000000_usd_decentralized/\n",
      "84ute3\n",
      "http://reddit.com/r/Bitcoin/comments/84vo2z/its_happening_boys/\n",
      "84vo2z\n",
      "http://reddit.com/r/Bitcoin/comments/84yfia/lightning_network_visualizer_now_live_on_mainnet/\n",
      "84yfia\n",
      "http://reddit.com/r/Bitcoin/comments/84u4cx/indian_exchange_zebpay_with_more_than_3_million/\n",
      "84u4cx\n",
      "http://reddit.com/r/Bitcoin/comments/84xjrm/bitmain_blocked_fluffypony_due_to_moner0_pow/\n",
      "84xjrm\n",
      "http://reddit.com/r/Bitcoin/comments/84t8vs/trade_but_dont_panic_and_dont_panic_trade/\n",
      "84t8vs\n",
      "http://reddit.com/r/Bitcoin/comments/84wtv9/finally_the_visa_ceo_launches_vicious_comments_to/\n",
      "84wtv9\n",
      "http://reddit.com/r/Bitcoin/comments/84xqqn/ln_is_here_how_to_run_your_lightning_node_this_is/\n",
      "84xqqn\n",
      "http://reddit.com/r/Bitcoin/comments/84t1jk/during_past_bubbles_when_institutional_money/\n",
      "84t1jk\n"
     ]
    }
   ],
   "source": [
    "urls = []\n",
    "topics_id = []\n",
    "counter = 0\n",
    "for topic in data:\n",
    "\turls.append(\"http://reddit.com\"+topic[\"data\"][\"permalink\"])\n",
    "\ttopics_id.append(topic[\"data\"][\"id\"])\n",
    "\n",
    "for url in urls:\n",
    "\tprint(url)\n",
    "\tprint(topics_id[counter])\n",
    "\tcounter = counter + 1"
   ]
  },
  {
   "cell_type": "code",
   "execution_count": 11,
   "metadata": {
    "scrolled": false
   },
   "outputs": [
    {
     "data": {
      "text/html": [
       "<div>\n",
       "<style>\n",
       "    .dataframe thead tr:only-child th {\n",
       "        text-align: right;\n",
       "    }\n",
       "\n",
       "    .dataframe thead th {\n",
       "        text-align: left;\n",
       "    }\n",
       "\n",
       "    .dataframe tbody tr th {\n",
       "        vertical-align: top;\n",
       "    }\n",
       "</style>\n",
       "<table border=\"1\" class=\"dataframe\">\n",
       "  <thead>\n",
       "    <tr style=\"text-align: right;\">\n",
       "      <th></th>\n",
       "      <th>URL</th>\n",
       "    </tr>\n",
       "  </thead>\n",
       "  <tbody>\n",
       "    <tr>\n",
       "      <th>0</th>\n",
       "      <td>http://reddit.com/r/Bitcoin/comments/84n7dl/an...</td>\n",
       "    </tr>\n",
       "    <tr>\n",
       "      <th>1</th>\n",
       "      <td>http://reddit.com/r/Bitcoin/comments/84uapw/da...</td>\n",
       "    </tr>\n",
       "    <tr>\n",
       "      <th>2</th>\n",
       "      <td>http://reddit.com/r/Bitcoin/comments/84uhd0/af...</td>\n",
       "    </tr>\n",
       "    <tr>\n",
       "      <th>3</th>\n",
       "      <td>http://reddit.com/r/Bitcoin/comments/84uy6e/pe...</td>\n",
       "    </tr>\n",
       "    <tr>\n",
       "      <th>4</th>\n",
       "      <td>http://reddit.com/r/Bitcoin/comments/84wu5q/ps...</td>\n",
       "    </tr>\n",
       "    <tr>\n",
       "      <th>5</th>\n",
       "      <td>http://reddit.com/r/Bitcoin/comments/84v05t/pa...</td>\n",
       "    </tr>\n",
       "    <tr>\n",
       "      <th>6</th>\n",
       "      <td>http://reddit.com/r/Bitcoin/comments/84v2lv/ov...</td>\n",
       "    </tr>\n",
       "    <tr>\n",
       "      <th>7</th>\n",
       "      <td>http://reddit.com/r/Bitcoin/comments/84vujs/wa...</td>\n",
       "    </tr>\n",
       "    <tr>\n",
       "      <th>8</th>\n",
       "      <td>http://reddit.com/r/Bitcoin/comments/84uo3y/li...</td>\n",
       "    </tr>\n",
       "    <tr>\n",
       "      <th>9</th>\n",
       "      <td>http://reddit.com/r/Bitcoin/comments/84u3rb/bi...</td>\n",
       "    </tr>\n",
       "    <tr>\n",
       "      <th>10</th>\n",
       "      <td>http://reddit.com/r/Bitcoin/comments/84tt0v/ps...</td>\n",
       "    </tr>\n",
       "    <tr>\n",
       "      <th>11</th>\n",
       "      <td>http://reddit.com/r/Bitcoin/comments/84unzu/me...</td>\n",
       "    </tr>\n",
       "    <tr>\n",
       "      <th>12</th>\n",
       "      <td>http://reddit.com/r/Bitcoin/comments/84w8k0/ne...</td>\n",
       "    </tr>\n",
       "    <tr>\n",
       "      <th>13</th>\n",
       "      <td>http://reddit.com/r/Bitcoin/comments/84u0hl/ne...</td>\n",
       "    </tr>\n",
       "    <tr>\n",
       "      <th>14</th>\n",
       "      <td>http://reddit.com/r/Bitcoin/comments/84wh02/si...</td>\n",
       "    </tr>\n",
       "    <tr>\n",
       "      <th>15</th>\n",
       "      <td>http://reddit.com/r/Bitcoin/comments/84yij0/th...</td>\n",
       "    </tr>\n",
       "    <tr>\n",
       "      <th>16</th>\n",
       "      <td>http://reddit.com/r/Bitcoin/comments/84uc18/pe...</td>\n",
       "    </tr>\n",
       "    <tr>\n",
       "      <th>17</th>\n",
       "      <td>http://reddit.com/r/Bitcoin/comments/84posb/ca...</td>\n",
       "    </tr>\n",
       "    <tr>\n",
       "      <th>18</th>\n",
       "      <td>http://reddit.com/r/Bitcoin/comments/84ute3/bi...</td>\n",
       "    </tr>\n",
       "    <tr>\n",
       "      <th>19</th>\n",
       "      <td>http://reddit.com/r/Bitcoin/comments/84vo2z/it...</td>\n",
       "    </tr>\n",
       "    <tr>\n",
       "      <th>20</th>\n",
       "      <td>http://reddit.com/r/Bitcoin/comments/84yfia/li...</td>\n",
       "    </tr>\n",
       "    <tr>\n",
       "      <th>21</th>\n",
       "      <td>http://reddit.com/r/Bitcoin/comments/84u4cx/in...</td>\n",
       "    </tr>\n",
       "    <tr>\n",
       "      <th>22</th>\n",
       "      <td>http://reddit.com/r/Bitcoin/comments/84xjrm/bi...</td>\n",
       "    </tr>\n",
       "    <tr>\n",
       "      <th>23</th>\n",
       "      <td>http://reddit.com/r/Bitcoin/comments/84t8vs/tr...</td>\n",
       "    </tr>\n",
       "    <tr>\n",
       "      <th>24</th>\n",
       "      <td>http://reddit.com/r/Bitcoin/comments/84wtv9/fi...</td>\n",
       "    </tr>\n",
       "    <tr>\n",
       "      <th>25</th>\n",
       "      <td>http://reddit.com/r/Bitcoin/comments/84xqqn/ln...</td>\n",
       "    </tr>\n",
       "    <tr>\n",
       "      <th>26</th>\n",
       "      <td>http://reddit.com/r/Bitcoin/comments/84t1jk/du...</td>\n",
       "    </tr>\n",
       "  </tbody>\n",
       "</table>\n",
       "</div>"
      ],
      "text/plain": [
       "                                                  URL\n",
       "0   http://reddit.com/r/Bitcoin/comments/84n7dl/an...\n",
       "1   http://reddit.com/r/Bitcoin/comments/84uapw/da...\n",
       "2   http://reddit.com/r/Bitcoin/comments/84uhd0/af...\n",
       "3   http://reddit.com/r/Bitcoin/comments/84uy6e/pe...\n",
       "4   http://reddit.com/r/Bitcoin/comments/84wu5q/ps...\n",
       "5   http://reddit.com/r/Bitcoin/comments/84v05t/pa...\n",
       "6   http://reddit.com/r/Bitcoin/comments/84v2lv/ov...\n",
       "7   http://reddit.com/r/Bitcoin/comments/84vujs/wa...\n",
       "8   http://reddit.com/r/Bitcoin/comments/84uo3y/li...\n",
       "9   http://reddit.com/r/Bitcoin/comments/84u3rb/bi...\n",
       "10  http://reddit.com/r/Bitcoin/comments/84tt0v/ps...\n",
       "11  http://reddit.com/r/Bitcoin/comments/84unzu/me...\n",
       "12  http://reddit.com/r/Bitcoin/comments/84w8k0/ne...\n",
       "13  http://reddit.com/r/Bitcoin/comments/84u0hl/ne...\n",
       "14  http://reddit.com/r/Bitcoin/comments/84wh02/si...\n",
       "15  http://reddit.com/r/Bitcoin/comments/84yij0/th...\n",
       "16  http://reddit.com/r/Bitcoin/comments/84uc18/pe...\n",
       "17  http://reddit.com/r/Bitcoin/comments/84posb/ca...\n",
       "18  http://reddit.com/r/Bitcoin/comments/84ute3/bi...\n",
       "19  http://reddit.com/r/Bitcoin/comments/84vo2z/it...\n",
       "20  http://reddit.com/r/Bitcoin/comments/84yfia/li...\n",
       "21  http://reddit.com/r/Bitcoin/comments/84u4cx/in...\n",
       "22  http://reddit.com/r/Bitcoin/comments/84xjrm/bi...\n",
       "23  http://reddit.com/r/Bitcoin/comments/84t8vs/tr...\n",
       "24  http://reddit.com/r/Bitcoin/comments/84wtv9/fi...\n",
       "25  http://reddit.com/r/Bitcoin/comments/84xqqn/ln...\n",
       "26  http://reddit.com/r/Bitcoin/comments/84t1jk/du..."
      ]
     },
     "execution_count": 11,
     "metadata": {},
     "output_type": "execute_result"
    }
   ],
   "source": [
    "columns = ['URL']\n",
    "\n",
    "\n",
    "dataFrame = pd.DataFrame(urls, columns=columns)\n",
    "dataFrame"
   ]
  },
  {
   "cell_type": "markdown",
   "metadata": {},
   "source": [
    "Salvar tabela em arquivo xls"
   ]
  },
  {
   "cell_type": "code",
   "execution_count": 12,
   "metadata": {
    "collapsed": true
   },
   "outputs": [],
   "source": [
    "dataFrame.to_csv(\"RedditURLs\", sep='\\t', encoding='utf-8')"
   ]
  }
 ],
 "metadata": {
  "kernelspec": {
   "display_name": "Python 3",
   "language": "python",
   "name": "python3"
  },
  "language_info": {
   "codemirror_mode": {
    "name": "ipython",
    "version": 3
   },
   "file_extension": ".py",
   "mimetype": "text/x-python",
   "name": "python",
   "nbconvert_exporter": "python",
   "pygments_lexer": "ipython3",
   "version": "3.6.3"
  }
 },
 "nbformat": 4,
 "nbformat_minor": 2
}
